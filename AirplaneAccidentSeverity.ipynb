{
  "nbformat": 4,
  "nbformat_minor": 0,
  "metadata": {
    "colab": {
      "name": "AirplaneAccidentSeverity.ipynb",
      "provenance": [],
      "collapsed_sections": [],
      "authorship_tag": "ABX9TyMo2Vu130QKjV+g9xoaffVO",
      "include_colab_link": true
    },
    "kernelspec": {
      "name": "python3",
      "display_name": "Python 3"
    }
  },
  "cells": [
    {
      "cell_type": "markdown",
      "metadata": {
        "id": "view-in-github",
        "colab_type": "text"
      },
      "source": [
        "<a href=\"https://colab.research.google.com/github/dskeshav/Airplane-Accident-Severity-Prediction/blob/master/AirplaneAccidentSeverity.ipynb\" target=\"_parent\"><img src=\"https://colab.research.google.com/assets/colab-badge.svg\" alt=\"Open In Colab\"/></a>"
      ]
    },
    {
      "cell_type": "markdown",
      "metadata": {
        "id": "EyjGkpLgkMXu",
        "colab_type": "text"
      },
      "source": [
        "#Airplane Accident Severity Predictor"
      ]
    },
    {
      "cell_type": "code",
      "metadata": {
        "id": "8Jbtv0IJ0gxg",
        "colab_type": "code",
        "colab": {}
      },
      "source": [
        "# Importing necessary library\n",
        "import pandas as pd\n",
        "import numpy as np\n",
        "import matplotlib.pyplot as plt\n"
      ],
      "execution_count": 0,
      "outputs": []
    },
    {
      "cell_type": "code",
      "metadata": {
        "id": "KE82NC232Lc-",
        "colab_type": "code",
        "outputId": "5b90df05-0188-4d21-bda0-018f48846158",
        "colab": {
          "base_uri": "https://localhost:8080/",
          "height": 34
        }
      },
      "source": [
        "# Mount the google drive\n",
        "from google.colab import drive\n",
        "drive.mount('/content/drive')\n"
      ],
      "execution_count": 0,
      "outputs": [
        {
          "output_type": "stream",
          "text": [
            "Drive already mounted at /content/drive; to attempt to forcibly remount, call drive.mount(\"/content/drive\", force_remount=True).\n"
          ],
          "name": "stdout"
        }
      ]
    },
    {
      "cell_type": "code",
      "metadata": {
        "id": "hENMFgZ74_O3",
        "colab_type": "code",
        "colab": {}
      },
      "source": [
        "# loading the training and test dataset \n",
        "training_dataset=pd.read_csv('/content/drive/My Drive/Colab Notebooks/AircraftAccident/train.csv')\n",
        "testing_dataset=pd.read_csv('/content/drive/My Drive/Colab Notebooks/AircraftAccident/test.csv')"
      ],
      "execution_count": 0,
      "outputs": []
    },
    {
      "cell_type": "code",
      "metadata": {
        "id": "vpZGgNBT5RyY",
        "colab_type": "code",
        "outputId": "c3c9a5fc-0931-4bf6-af6d-de5f2b84a2e6",
        "colab": {
          "base_uri": "https://localhost:8080/",
          "height": 51
        }
      },
      "source": [
        "# find the shapes of dataset\n",
        "print(\"Training dataset size: \",training_dataset.shape)\n",
        "print(\"Testing dataset size:\", testing_dataset.shape)"
      ],
      "execution_count": 0,
      "outputs": [
        {
          "output_type": "stream",
          "text": [
            "Training dataset size:  (10000, 12)\n",
            "Testing dataset size: (2500, 11)\n"
          ],
          "name": "stdout"
        }
      ]
    },
    {
      "cell_type": "code",
      "metadata": {
        "id": "oqgyEBz85Ru0",
        "colab_type": "code",
        "outputId": "93676b11-03d0-4202-d232-b3ec8d7a5cb5",
        "colab": {
          "base_uri": "https://localhost:8080/",
          "height": 379
        }
      },
      "source": [
        "training_dataset.head(10)"
      ],
      "execution_count": 0,
      "outputs": [
        {
          "output_type": "execute_result",
          "data": {
            "text/html": [
              "<div>\n",
              "<style scoped>\n",
              "    .dataframe tbody tr th:only-of-type {\n",
              "        vertical-align: middle;\n",
              "    }\n",
              "\n",
              "    .dataframe tbody tr th {\n",
              "        vertical-align: top;\n",
              "    }\n",
              "\n",
              "    .dataframe thead th {\n",
              "        text-align: right;\n",
              "    }\n",
              "</style>\n",
              "<table border=\"1\" class=\"dataframe\">\n",
              "  <thead>\n",
              "    <tr style=\"text-align: right;\">\n",
              "      <th></th>\n",
              "      <th>Severity</th>\n",
              "      <th>Safety_Score</th>\n",
              "      <th>Days_Since_Inspection</th>\n",
              "      <th>Total_Safety_Complaints</th>\n",
              "      <th>Control_Metric</th>\n",
              "      <th>Turbulence_In_gforces</th>\n",
              "      <th>Cabin_Temperature</th>\n",
              "      <th>Accident_Type_Code</th>\n",
              "      <th>Max_Elevation</th>\n",
              "      <th>Violations</th>\n",
              "      <th>Adverse_Weather_Metric</th>\n",
              "      <th>Accident_ID</th>\n",
              "    </tr>\n",
              "  </thead>\n",
              "  <tbody>\n",
              "    <tr>\n",
              "      <th>0</th>\n",
              "      <td>Minor_Damage_And_Injuries</td>\n",
              "      <td>49.223744</td>\n",
              "      <td>14</td>\n",
              "      <td>22</td>\n",
              "      <td>71.285324</td>\n",
              "      <td>0.272118</td>\n",
              "      <td>78.04</td>\n",
              "      <td>2</td>\n",
              "      <td>31335.47682</td>\n",
              "      <td>3</td>\n",
              "      <td>0.424352</td>\n",
              "      <td>7570</td>\n",
              "    </tr>\n",
              "    <tr>\n",
              "      <th>1</th>\n",
              "      <td>Minor_Damage_And_Injuries</td>\n",
              "      <td>62.465753</td>\n",
              "      <td>10</td>\n",
              "      <td>27</td>\n",
              "      <td>72.288058</td>\n",
              "      <td>0.423939</td>\n",
              "      <td>84.54</td>\n",
              "      <td>2</td>\n",
              "      <td>26024.71106</td>\n",
              "      <td>2</td>\n",
              "      <td>0.352350</td>\n",
              "      <td>12128</td>\n",
              "    </tr>\n",
              "    <tr>\n",
              "      <th>2</th>\n",
              "      <td>Significant_Damage_And_Fatalities</td>\n",
              "      <td>63.059361</td>\n",
              "      <td>13</td>\n",
              "      <td>16</td>\n",
              "      <td>66.362808</td>\n",
              "      <td>0.322604</td>\n",
              "      <td>78.86</td>\n",
              "      <td>7</td>\n",
              "      <td>39269.05393</td>\n",
              "      <td>3</td>\n",
              "      <td>0.003364</td>\n",
              "      <td>2181</td>\n",
              "    </tr>\n",
              "    <tr>\n",
              "      <th>3</th>\n",
              "      <td>Significant_Damage_And_Serious_Injuries</td>\n",
              "      <td>48.082192</td>\n",
              "      <td>11</td>\n",
              "      <td>9</td>\n",
              "      <td>74.703737</td>\n",
              "      <td>0.337029</td>\n",
              "      <td>81.79</td>\n",
              "      <td>3</td>\n",
              "      <td>42771.49920</td>\n",
              "      <td>1</td>\n",
              "      <td>0.211728</td>\n",
              "      <td>5946</td>\n",
              "    </tr>\n",
              "    <tr>\n",
              "      <th>4</th>\n",
              "      <td>Significant_Damage_And_Fatalities</td>\n",
              "      <td>26.484018</td>\n",
              "      <td>13</td>\n",
              "      <td>25</td>\n",
              "      <td>47.948952</td>\n",
              "      <td>0.541140</td>\n",
              "      <td>77.16</td>\n",
              "      <td>3</td>\n",
              "      <td>35509.22852</td>\n",
              "      <td>2</td>\n",
              "      <td>0.176883</td>\n",
              "      <td>9054</td>\n",
              "    </tr>\n",
              "    <tr>\n",
              "      <th>5</th>\n",
              "      <td>Minor_Damage_And_Injuries</td>\n",
              "      <td>43.333333</td>\n",
              "      <td>15</td>\n",
              "      <td>0</td>\n",
              "      <td>73.336372</td>\n",
              "      <td>0.432954</td>\n",
              "      <td>78.63</td>\n",
              "      <td>2</td>\n",
              "      <td>29288.44810</td>\n",
              "      <td>1</td>\n",
              "      <td>0.394505</td>\n",
              "      <td>10947</td>\n",
              "    </tr>\n",
              "    <tr>\n",
              "      <th>6</th>\n",
              "      <td>Highly_Fatal_And_Damaging</td>\n",
              "      <td>22.009132</td>\n",
              "      <td>15</td>\n",
              "      <td>10</td>\n",
              "      <td>62.853236</td>\n",
              "      <td>0.314671</td>\n",
              "      <td>88.04</td>\n",
              "      <td>4</td>\n",
              "      <td>32342.10935</td>\n",
              "      <td>0</td>\n",
              "      <td>0.058872</td>\n",
              "      <td>4717</td>\n",
              "    </tr>\n",
              "    <tr>\n",
              "      <th>7</th>\n",
              "      <td>Minor_Damage_And_Injuries</td>\n",
              "      <td>24.703196</td>\n",
              "      <td>18</td>\n",
              "      <td>4</td>\n",
              "      <td>60.802188</td>\n",
              "      <td>0.548353</td>\n",
              "      <td>83.48</td>\n",
              "      <td>4</td>\n",
              "      <td>22547.19524</td>\n",
              "      <td>2</td>\n",
              "      <td>0.040419</td>\n",
              "      <td>8008</td>\n",
              "    </tr>\n",
              "    <tr>\n",
              "      <th>8</th>\n",
              "      <td>Highly_Fatal_And_Damaging</td>\n",
              "      <td>54.840183</td>\n",
              "      <td>5</td>\n",
              "      <td>40</td>\n",
              "      <td>69.234275</td>\n",
              "      <td>0.335587</td>\n",
              "      <td>78.24</td>\n",
              "      <td>2</td>\n",
              "      <td>45751.98341</td>\n",
              "      <td>0</td>\n",
              "      <td>0.619186</td>\n",
              "      <td>8179</td>\n",
              "    </tr>\n",
              "    <tr>\n",
              "      <th>9</th>\n",
              "      <td>Significant_Damage_And_Serious_Injuries</td>\n",
              "      <td>52.237443</td>\n",
              "      <td>6</td>\n",
              "      <td>4</td>\n",
              "      <td>57.429353</td>\n",
              "      <td>0.465410</td>\n",
              "      <td>79.56</td>\n",
              "      <td>1</td>\n",
              "      <td>37933.39900</td>\n",
              "      <td>1</td>\n",
              "      <td>1.389295</td>\n",
              "      <td>6324</td>\n",
              "    </tr>\n",
              "  </tbody>\n",
              "</table>\n",
              "</div>"
            ],
            "text/plain": [
              "                                  Severity  ...  Accident_ID\n",
              "0                Minor_Damage_And_Injuries  ...         7570\n",
              "1                Minor_Damage_And_Injuries  ...        12128\n",
              "2        Significant_Damage_And_Fatalities  ...         2181\n",
              "3  Significant_Damage_And_Serious_Injuries  ...         5946\n",
              "4        Significant_Damage_And_Fatalities  ...         9054\n",
              "5                Minor_Damage_And_Injuries  ...        10947\n",
              "6                Highly_Fatal_And_Damaging  ...         4717\n",
              "7                Minor_Damage_And_Injuries  ...         8008\n",
              "8                Highly_Fatal_And_Damaging  ...         8179\n",
              "9  Significant_Damage_And_Serious_Injuries  ...         6324\n",
              "\n",
              "[10 rows x 12 columns]"
            ]
          },
          "metadata": {
            "tags": []
          },
          "execution_count": 6
        }
      ]
    },
    {
      "cell_type": "code",
      "metadata": {
        "id": "ABDOchb99kFq",
        "colab_type": "code",
        "outputId": "be68480b-7d7d-40ad-bf8e-6852ba61278b",
        "colab": {
          "base_uri": "https://localhost:8080/",
          "height": 317
        }
      },
      "source": [
        "training_dataset.describe()"
      ],
      "execution_count": 0,
      "outputs": [
        {
          "output_type": "execute_result",
          "data": {
            "text/html": [
              "<div>\n",
              "<style scoped>\n",
              "    .dataframe tbody tr th:only-of-type {\n",
              "        vertical-align: middle;\n",
              "    }\n",
              "\n",
              "    .dataframe tbody tr th {\n",
              "        vertical-align: top;\n",
              "    }\n",
              "\n",
              "    .dataframe thead th {\n",
              "        text-align: right;\n",
              "    }\n",
              "</style>\n",
              "<table border=\"1\" class=\"dataframe\">\n",
              "  <thead>\n",
              "    <tr style=\"text-align: right;\">\n",
              "      <th></th>\n",
              "      <th>Safety_Score</th>\n",
              "      <th>Days_Since_Inspection</th>\n",
              "      <th>Total_Safety_Complaints</th>\n",
              "      <th>Control_Metric</th>\n",
              "      <th>Turbulence_In_gforces</th>\n",
              "      <th>Cabin_Temperature</th>\n",
              "      <th>Accident_Type_Code</th>\n",
              "      <th>Max_Elevation</th>\n",
              "      <th>Violations</th>\n",
              "      <th>Adverse_Weather_Metric</th>\n",
              "      <th>Accident_ID</th>\n",
              "    </tr>\n",
              "  </thead>\n",
              "  <tbody>\n",
              "    <tr>\n",
              "      <th>count</th>\n",
              "      <td>10000.000000</td>\n",
              "      <td>10000.000000</td>\n",
              "      <td>10000.000000</td>\n",
              "      <td>10000.000000</td>\n",
              "      <td>10000.000000</td>\n",
              "      <td>10000.000000</td>\n",
              "      <td>10000.000000</td>\n",
              "      <td>10000.000000</td>\n",
              "      <td>10000.00000</td>\n",
              "      <td>10000.000000</td>\n",
              "      <td>10000.000000</td>\n",
              "    </tr>\n",
              "    <tr>\n",
              "      <th>mean</th>\n",
              "      <td>41.876406</td>\n",
              "      <td>12.931100</td>\n",
              "      <td>6.564300</td>\n",
              "      <td>65.145324</td>\n",
              "      <td>0.381495</td>\n",
              "      <td>79.969331</td>\n",
              "      <td>3.814900</td>\n",
              "      <td>32001.803282</td>\n",
              "      <td>2.01220</td>\n",
              "      <td>0.255635</td>\n",
              "      <td>6266.554200</td>\n",
              "    </tr>\n",
              "    <tr>\n",
              "      <th>std</th>\n",
              "      <td>16.138072</td>\n",
              "      <td>3.539803</td>\n",
              "      <td>6.971982</td>\n",
              "      <td>11.882934</td>\n",
              "      <td>0.121301</td>\n",
              "      <td>2.759739</td>\n",
              "      <td>1.902577</td>\n",
              "      <td>9431.995196</td>\n",
              "      <td>1.03998</td>\n",
              "      <td>0.381128</td>\n",
              "      <td>3610.170288</td>\n",
              "    </tr>\n",
              "    <tr>\n",
              "      <th>min</th>\n",
              "      <td>0.000000</td>\n",
              "      <td>1.000000</td>\n",
              "      <td>0.000000</td>\n",
              "      <td>0.000000</td>\n",
              "      <td>0.134000</td>\n",
              "      <td>74.740000</td>\n",
              "      <td>1.000000</td>\n",
              "      <td>831.695553</td>\n",
              "      <td>0.00000</td>\n",
              "      <td>0.000316</td>\n",
              "      <td>2.000000</td>\n",
              "    </tr>\n",
              "    <tr>\n",
              "      <th>25%</th>\n",
              "      <td>30.593607</td>\n",
              "      <td>11.000000</td>\n",
              "      <td>2.000000</td>\n",
              "      <td>56.927985</td>\n",
              "      <td>0.293665</td>\n",
              "      <td>77.960000</td>\n",
              "      <td>2.000000</td>\n",
              "      <td>25757.636910</td>\n",
              "      <td>1.00000</td>\n",
              "      <td>0.012063</td>\n",
              "      <td>3139.750000</td>\n",
              "    </tr>\n",
              "    <tr>\n",
              "      <th>50%</th>\n",
              "      <td>41.278539</td>\n",
              "      <td>13.000000</td>\n",
              "      <td>4.000000</td>\n",
              "      <td>65.587967</td>\n",
              "      <td>0.365879</td>\n",
              "      <td>79.540000</td>\n",
              "      <td>4.000000</td>\n",
              "      <td>32060.336420</td>\n",
              "      <td>2.00000</td>\n",
              "      <td>0.074467</td>\n",
              "      <td>6280.500000</td>\n",
              "    </tr>\n",
              "    <tr>\n",
              "      <th>75%</th>\n",
              "      <td>52.511416</td>\n",
              "      <td>15.000000</td>\n",
              "      <td>9.000000</td>\n",
              "      <td>73.336372</td>\n",
              "      <td>0.451346</td>\n",
              "      <td>81.560000</td>\n",
              "      <td>5.000000</td>\n",
              "      <td>38380.641515</td>\n",
              "      <td>3.00000</td>\n",
              "      <td>0.354059</td>\n",
              "      <td>9391.500000</td>\n",
              "    </tr>\n",
              "    <tr>\n",
              "      <th>max</th>\n",
              "      <td>100.000000</td>\n",
              "      <td>23.000000</td>\n",
              "      <td>54.000000</td>\n",
              "      <td>100.000000</td>\n",
              "      <td>0.882648</td>\n",
              "      <td>97.510000</td>\n",
              "      <td>7.000000</td>\n",
              "      <td>64297.651220</td>\n",
              "      <td>5.00000</td>\n",
              "      <td>2.365378</td>\n",
              "      <td>12500.000000</td>\n",
              "    </tr>\n",
              "  </tbody>\n",
              "</table>\n",
              "</div>"
            ],
            "text/plain": [
              "       Safety_Score  ...   Accident_ID\n",
              "count  10000.000000  ...  10000.000000\n",
              "mean      41.876406  ...   6266.554200\n",
              "std       16.138072  ...   3610.170288\n",
              "min        0.000000  ...      2.000000\n",
              "25%       30.593607  ...   3139.750000\n",
              "50%       41.278539  ...   6280.500000\n",
              "75%       52.511416  ...   9391.500000\n",
              "max      100.000000  ...  12500.000000\n",
              "\n",
              "[8 rows x 11 columns]"
            ]
          },
          "metadata": {
            "tags": []
          },
          "execution_count": 7
        }
      ]
    },
    {
      "cell_type": "code",
      "metadata": {
        "id": "zIHuUlVl_LHL",
        "colab_type": "code",
        "outputId": "2d292bd2-d0f3-4f77-bd51-175c808270f6",
        "colab": {
          "base_uri": "https://localhost:8080/",
          "height": 656
        }
      },
      "source": [
        "import seaborn as sns\n",
        "corrmat=training_dataset.corr()\n",
        "fig=plt.figure(figsize=(12,9))\n",
        "sns.heatmap(corrmat,center=0,vmax=.8,square=True,annot=True)\n",
        "plt.show()"
      ],
      "execution_count": 0,
      "outputs": [
        {
          "output_type": "display_data",
          "data": {
            "image/png": "[encoded data removed]",
            "text/plain": [
              "<Figure size 864x648 with 2 Axes>"
            ]
          },
          "metadata": {
            "tags": []
          }
        }
      ]
    },
    {
      "cell_type": "markdown",
      "metadata": {
        "id": "eqs4TyVKZUO5",
        "colab_type": "text"
      },
      "source": [
        "From the Coreleation matrix it is evident that there exist a negative coreleation, which induces multi-colinearity. So to avoid the effect of multi-colinearity in accuracy of Classification model **Decision Tree Classifier** Algorithm is better in building the model."
      ]
    },
    {
      "cell_type": "code",
      "metadata": {
        "id": "4Nk9AC0UIp_g",
        "colab_type": "code",
        "colab": {}
      },
      "source": [
        "# Input and output fields\n",
        "target= 'Severity'\n",
        "columns = [c for c in training_dataset.columns if c != 'Severity']"
      ],
      "execution_count": 0,
      "outputs": []
    },
    {
      "cell_type": "code",
      "metadata": {
        "id": "Nzfbv6vkN-z6",
        "colab_type": "code",
        "colab": {}
      },
      "source": [
        "# Import model class\n",
        "from sklearn import model_selection\n",
        "from sklearn.svm import SVC\n",
        "from sklearn.tree import DecisionTreeClassifier\n"
      ],
      "execution_count": 0,
      "outputs": []
    },
    {
      "cell_type": "code",
      "metadata": {
        "id": "2JzYhGTdRc4E",
        "colab_type": "code",
        "colab": {}
      },
      "source": [
        "#Preprocessing the data\n",
        "from sklearn.pipeline import Pipeline\n",
        "from sklearn.preprocessing import StandardScaler"
      ],
      "execution_count": 0,
      "outputs": []
    },
    {
      "cell_type": "code",
      "metadata": {
        "id": "8FhXDC9hGc1i",
        "colab_type": "code",
        "outputId": "7b98e9f5-2bb0-491d-e9b6-ab612b67c374",
        "colab": {
          "base_uri": "https://localhost:8080/",
          "height": 51
        }
      },
      "source": [
        "\n",
        "models = []\n",
        "results =[]\n",
        "names=[]\n",
        "models.append((\"SVC\", SVC()))\n",
        "models.append((\"dtc\",DecisionTreeClassifier(criterion ='entropy',max_depth=25,max_leaf_nodes=250)))\n",
        "\n",
        "\n",
        "seed=7\n",
        "scoring='accuracy'\n",
        "# KFold Cross Validation\n",
        "for name,model in models:\n",
        "    kfold=model_selection.KFold(n_splits=10,random_state=seed,shuffle=True)\n",
        "    s = StandardScaler()\n",
        "    # pt = PowerTransformer()\n",
        "    p = Pipeline(steps=[('s',s),('m',model)])\n",
        "    cv_results=model_selection.cross_val_score(p, training_dataset[columns],training_dataset['Severity'], cv=kfold, scoring=scoring)\n",
        "    \n",
        "    results.append(cv_results)\n",
        "    names.append(name)\n",
        "    msg=\"%s: %f (%f)\"%(name,cv_results.mean(),cv_results.std())\n",
        "    print(msg)\n",
        " "
      ],
      "execution_count": 0,
      "outputs": [
        {
          "output_type": "stream",
          "text": [
            "SVC: 0.869200 (0.011652)\n",
            "dtc: 0.942200 (0.007600)\n"
          ],
          "name": "stdout"
        }
      ]
    },
    {
      "cell_type": "code",
      "metadata": {
        "id": "NLHkRCtWTgr0",
        "colab_type": "code",
        "outputId": "6bf01d44-43db-401d-9f1c-716704ad8470",
        "colab": {
          "base_uri": "https://localhost:8080/",
          "height": 34
        }
      },
      "source": [
        "training_dataset.drop(training_dataset.loc[training_dataset['Safety_Score']==0].index, inplace=True)\n",
        "training_dataset.shape"
      ],
      "execution_count": 0,
      "outputs": [
        {
          "output_type": "execute_result",
          "data": {
            "text/plain": [
              "(9995, 12)"
            ]
          },
          "metadata": {
            "tags": []
          },
          "execution_count": 13
        }
      ]
    },
    {
      "cell_type": "code",
      "metadata": {
        "id": "hrqjbLO0NDPW",
        "colab_type": "code",
        "outputId": "ed914f5f-8973-4b75-8bf9-cf95439472ed",
        "colab": {
          "base_uri": "https://localhost:8080/",
          "height": 170
        }
      },
      "source": [
        "# Decision Tree cross validation for various sample split\n",
        "\n",
        "for i in range(2,11):\n",
        "    kfold=model_selection.KFold(n_splits=10,random_state=seed,shuffle=True)\n",
        "    s = StandardScaler()\n",
        "    # pt = PowerTransformer()\n",
        "    p = Pipeline(steps=[('s',s),('m',DecisionTreeClassifier(criterion ='entropy',max_depth=100,max_leaf_nodes=250, min_samples_split=i))])\n",
        "    cv_results=model_selection.cross_val_score(p, training_dataset[columns],training_dataset['Severity'], cv=kfold, scoring=scoring)\n",
        "    print(\"DTC: min sample %d: %f(%f)\"%(i, cv_results.mean(),cv_results.std() ))"
      ],
      "execution_count": 0,
      "outputs": [
        {
          "output_type": "stream",
          "text": [
            "DTC: min sample 2: 0.942470(0.008236)\n",
            "DTC: min sample 3: 0.942770(0.007544)\n",
            "DTC: min sample 4: 0.942870(0.008918)\n",
            "DTC: min sample 5: 0.943070(0.008385)\n",
            "DTC: min sample 6: 0.941570(0.008015)\n",
            "DTC: min sample 7: 0.942269(0.009069)\n",
            "DTC: min sample 8: 0.942370(0.008710)\n",
            "DTC: min sample 9: 0.941970(0.007701)\n",
            "DTC: min sample 10: 0.940569(0.007900)\n"
          ],
          "name": "stdout"
        }
      ]
    },
    {
      "cell_type": "code",
      "metadata": {
        "id": "OAmKuqzuyoFd",
        "colab_type": "code",
        "colab": {}
      },
      "source": [
        "# Fit the model and save prediction to csv file\n",
        "s = StandardScaler()\n",
        "model = Pipeline(steps=[('s',s),('m',DecisionTreeClassifier(criterion ='entropy',max_depth=25,max_leaf_nodes=250))])\n",
        "model.fit(training_dataset[columns],training_dataset['Severity'])\n",
        "testing_dataset=s.transform(testing_dataset)\n",
        "predictions = model.predict(testing_dataset)\n",
        "pd.DataFrame(predictions, columns=['predictions']).to_csv('/content/drive/My Drive/Colab Notebooks/AircraftAccident/results_3.csv')\n",
        "# output=pd.DataFrame(predictions)\n",
        "# output=pd.DataFrame(data={\"Accident_ID\":testing_dataset[\"Accident_ID\"],\"Severity\":predictions}) \n",
        "# output.to_csv(\"/content/drive/My Drive/Colab Notebooks/AircraftAccident/results_3.csv\",index=False,sep=',')"
      ],
      "execution_count": 0,
      "outputs": []
    },
    {
      "cell_type": "code",
      "metadata": {
        "id": "wW6XCw9oPiI8",
        "colab_type": "code",
        "outputId": "358ea9d8-4e96-49b6-ffaa-b55550b84bc9",
        "colab": {
          "base_uri": "https://localhost:8080/",
          "height": 224
        }
      },
      "source": [
        "# Find the class distrubtion\n",
        "training_dataset.groupby(['Severity']).count()"
      ],
      "execution_count": 0,
      "outputs": [
        {
          "output_type": "execute_result",
          "data": {
            "text/html": [
              "<div>\n",
              "<style scoped>\n",
              "    .dataframe tbody tr th:only-of-type {\n",
              "        vertical-align: middle;\n",
              "    }\n",
              "\n",
              "    .dataframe tbody tr th {\n",
              "        vertical-align: top;\n",
              "    }\n",
              "\n",
              "    .dataframe thead th {\n",
              "        text-align: right;\n",
              "    }\n",
              "</style>\n",
              "<table border=\"1\" class=\"dataframe\">\n",
              "  <thead>\n",
              "    <tr style=\"text-align: right;\">\n",
              "      <th></th>\n",
              "      <th>Safety_Score</th>\n",
              "      <th>Days_Since_Inspection</th>\n",
              "      <th>Total_Safety_Complaints</th>\n",
              "      <th>Control_Metric</th>\n",
              "      <th>Turbulence_In_gforces</th>\n",
              "      <th>Cabin_Temperature</th>\n",
              "      <th>Accident_Type_Code</th>\n",
              "      <th>Max_Elevation</th>\n",
              "      <th>Violations</th>\n",
              "      <th>Adverse_Weather_Metric</th>\n",
              "      <th>Accident_ID</th>\n",
              "    </tr>\n",
              "    <tr>\n",
              "      <th>Severity</th>\n",
              "      <th></th>\n",
              "      <th></th>\n",
              "      <th></th>\n",
              "      <th></th>\n",
              "      <th></th>\n",
              "      <th></th>\n",
              "      <th></th>\n",
              "      <th></th>\n",
              "      <th></th>\n",
              "      <th></th>\n",
              "      <th></th>\n",
              "    </tr>\n",
              "  </thead>\n",
              "  <tbody>\n",
              "    <tr>\n",
              "      <th>Highly_Fatal_And_Damaging</th>\n",
              "      <td>3044</td>\n",
              "      <td>3044</td>\n",
              "      <td>3044</td>\n",
              "      <td>3044</td>\n",
              "      <td>3044</td>\n",
              "      <td>3044</td>\n",
              "      <td>3044</td>\n",
              "      <td>3044</td>\n",
              "      <td>3044</td>\n",
              "      <td>3044</td>\n",
              "      <td>3044</td>\n",
              "    </tr>\n",
              "    <tr>\n",
              "      <th>Minor_Damage_And_Injuries</th>\n",
              "      <td>2527</td>\n",
              "      <td>2527</td>\n",
              "      <td>2527</td>\n",
              "      <td>2527</td>\n",
              "      <td>2527</td>\n",
              "      <td>2527</td>\n",
              "      <td>2527</td>\n",
              "      <td>2527</td>\n",
              "      <td>2527</td>\n",
              "      <td>2527</td>\n",
              "      <td>2527</td>\n",
              "    </tr>\n",
              "    <tr>\n",
              "      <th>Significant_Damage_And_Fatalities</th>\n",
              "      <td>1695</td>\n",
              "      <td>1695</td>\n",
              "      <td>1695</td>\n",
              "      <td>1695</td>\n",
              "      <td>1695</td>\n",
              "      <td>1695</td>\n",
              "      <td>1695</td>\n",
              "      <td>1695</td>\n",
              "      <td>1695</td>\n",
              "      <td>1695</td>\n",
              "      <td>1695</td>\n",
              "    </tr>\n",
              "    <tr>\n",
              "      <th>Significant_Damage_And_Serious_Injuries</th>\n",
              "      <td>2729</td>\n",
              "      <td>2729</td>\n",
              "      <td>2729</td>\n",
              "      <td>2729</td>\n",
              "      <td>2729</td>\n",
              "      <td>2729</td>\n",
              "      <td>2729</td>\n",
              "      <td>2729</td>\n",
              "      <td>2729</td>\n",
              "      <td>2729</td>\n",
              "      <td>2729</td>\n",
              "    </tr>\n",
              "  </tbody>\n",
              "</table>\n",
              "</div>"
            ],
            "text/plain": [
              "                                         Safety_Score  ...  Accident_ID\n",
              "Severity                                               ...             \n",
              "Highly_Fatal_And_Damaging                        3044  ...         3044\n",
              "Minor_Damage_And_Injuries                        2527  ...         2527\n",
              "Significant_Damage_And_Fatalities                1695  ...         1695\n",
              "Significant_Damage_And_Serious_Injuries          2729  ...         2729\n",
              "\n",
              "[4 rows x 11 columns]"
            ]
          },
          "metadata": {
            "tags": []
          },
          "execution_count": 15
        }
      ]
    }
  ]
}